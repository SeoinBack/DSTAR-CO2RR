{
 "cells": [
  {
   "cell_type": "code",
   "execution_count": 5,
   "metadata": {},
   "outputs": [],
   "source": [
    "import sys\n",
    "sys.path.append(\"../.\")\n",
    "import warnings\n",
    "warnings.filterwarnings('ignore')\n",
    "\n",
    "import pickle\n",
    "import os\n",
    "import pandas as pd\n",
    "import numpy as np\n",
    "\n",
    "from tqdm import tqdm\n",
    "from itertools import product\n",
    "from ast import literal_eval\n",
    "from pymatgen.core import Structure\n",
    "from pymatgen.io.ase import AseAtomsAdaptor\n",
    "\n",
    "from sklearn.ensemble import GradientBoostingRegressor\n",
    "from sklearn.preprocessing import StandardScaler\n",
    "\n",
    "from dstar.atoms import active_motif, fingerprint, substitution"
   ]
  },
  {
   "cell_type": "code",
   "execution_count": 6,
   "metadata": {},
   "outputs": [
    {
     "name": "stderr",
     "output_type": "stream",
     "text": [
      "10it [00:01,  8.04it/s]\n",
      "10it [00:01,  6.77it/s]\n",
      "10it [00:01,  6.67it/s]\n"
     ]
    }
   ],
   "source": [
    "# Data preprocessing for training\n",
    "\n",
    "adsorbates = ['CO','H','OH']\n",
    "\n",
    "for ads in adsorbates:\n",
    "    # Load structure data\n",
    "    df = pd.read_csv(f'../data/{ads}_enumerated_data.csv',index_col=0)\n",
    "    df = df.head(10) # Delete this to actual running\n",
    "    ids = df['id'].to_list()\n",
    "    energies = df['energy'].to_list()\n",
    "    structures = [Structure.from_str(poscar,fmt='poscar') for poscar in df['poscar'].to_list()]\n",
    "    \n",
    "    # Load tag data for tagging adsorbate\n",
    "    with open(f'../data/{ads}_tag.pkl','rb') as fr:\n",
    "        tag_dict = pickle.load(fr)\n",
    "        \n",
    "    # convert surface structures to acitve motif.\n",
    "    motifs = []\n",
    "    for structure, id_ in tqdm(zip(structures, ids)):\n",
    "        atoms = AseAtomsAdaptor.get_atoms(structure)\n",
    "        atoms.set_tags(tag_dict[id_])\n",
    "        motif,_ = active_motif.get_active_motif(atoms)\n",
    "        motifs.append(motif)\n",
    "        \n",
    "    # Save motif and energy as dataframe\n",
    "    motif_df = pd.DataFrame(columns = ['name','fnn','same','sub','target'])\n",
    "    motif_df['name'] = ids\n",
    "    motif_df['FNN'] = [i[0] for i in motifs]\n",
    "    motif_df['Same'] = [i[1] for i in motifs]\n",
    "    motif_df['Sub'] = [i[2] for i in motifs]\n",
    "    motif_df['target'] = energies\n",
    "    \n",
    "    motif_df.to_csv(f'./data/{ads}_motif.csv')"
   ]
  },
  {
   "cell_type": "code",
   "execution_count": 7,
   "metadata": {},
   "outputs": [
    {
     "name": "stderr",
     "output_type": "stream",
     "text": [
      "100%|██████████| 465/465 [00:01<00:00, 344.34it/s]\n"
     ]
    }
   ],
   "source": [
    "# Generate substituted dataframe\n",
    "\n",
    "el_set =['Ag','Al','As','Au','Co','Cr','Cu','Fe','Ga','Ge','In','Ir','Mn','Mo','Ni',\n",
    "         'Os','Pb','Pd','Pt','Re','Rh','Ru','Sb','Se','Si','Sn','Ti','V','W','Zn'] # Elements for substitution\n",
    "subs_path = './energy/'\n",
    "motif_df = pd.read_csv('./data/CO_motif.csv',index_col=0)\n",
    "\n",
    "atom_set = [sorted([j for j in i]) for i in list(product(el_set,el_set))]\n",
    "atom_set = [literal_eval(j) for j in set(str(i) for i in atom_set)] # Elemental combinations\n",
    "\n",
    "binary_df = substitution.get_binary(motif_df) # Get moitfs of binary alloy\n",
    "generalized_df = substitution.generalizer(binary_df) # Generalize motifs\n",
    "\n",
    "# Substitution \n",
    "for el_set in tqdm(atom_set):\n",
    "    el_name = '_'.join([el_set[0],el_set[1]]) \n",
    "    subs_fp = substitution.substitution(generalized_df, el_set)\n",
    "    subs_fp.to_csv(subs_path+'/'+el_name+'.csv',index=None)"
   ]
  },
  {
   "cell_type": "code",
   "execution_count": null,
   "metadata": {
    "scrolled": true
   },
   "outputs": [],
   "source": [
    "# Training and Prediction\n",
    "\n",
    "for ads in adsorbates:\n",
    "    motif_df = pd.read_csv(f'./data/{ads}_motif.csv',index_col=0)\n",
    "    motif_df = motif_df[(motif_df['target']<5) & (motif_df['target'] > -5)] # Exclude potential outlier\n",
    "    descriptor = fingerprint.motifs_to_df(motif_df) # Convert to atomic property descriptors\n",
    "    \n",
    "    # Train regressor\n",
    "    X = descriptor.iloc[:,1:].to_numpy()\n",
    "    y = motif_df['target'].to_numpy()\n",
    "    \n",
    "    scalar = StandardScaler()\n",
    "    X = scalar.fit_transform(X.astype(np.float))\n",
    "    \n",
    "    reg = GradientBoostingRegressor(n_estimators=3938, learning_rate=0.14777,max_depth=17,\n",
    "                                max_features='sqrt',min_samples_leaf=28, min_samples_split=24,loss='lad',random_state=42)\n",
    "    reg.fit(X,y)\n",
    "    \n",
    "    # Predict binding energy of substituted active motifs\n",
    "    sub_lst = sorted(os.listdir(subs_path))\n",
    "    \n",
    "    for idx, sub in tqdm(enumerate(sub_lst)):\n",
    "        sub_df = pd.read_csv(subs_path+sub)\n",
    "        sub_df.drop_duplicates(['FNN','Same','Sub'], inplace = True)\n",
    "        sub_fp = fingerprint.motifs_to_df(sub_df)\n",
    "        \n",
    "        sub_X = sub_fp.iloc[:,1:]\n",
    "        sub_X = scalar.transform(sub_X.astype(float))\n",
    "        sub_y = reg.predict(sub_X)\n",
    "        \n",
    "        sub_df[f'{ads}_energy'] = sub_y\n",
    "        sub_df.to_csv(subs_path+sub,index=None)"
   ]
  }
 ],
 "metadata": {
  "kernelspec": {
   "display_name": "Python 3",
   "language": "python",
   "name": "python3"
  },
  "language_info": {
   "codemirror_mode": {
    "name": "ipython",
    "version": 3
   },
   "file_extension": ".py",
   "mimetype": "text/x-python",
   "name": "python",
   "nbconvert_exporter": "python",
   "pygments_lexer": "ipython3",
   "version": "3.8.3"
  }
 },
 "nbformat": 4,
 "nbformat_minor": 4
}
