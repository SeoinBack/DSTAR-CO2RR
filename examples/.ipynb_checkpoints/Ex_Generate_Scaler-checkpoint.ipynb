{
 "cells": [
  {
   "cell_type": "code",
   "execution_count": null,
   "metadata": {},
   "outputs": [],
   "source": [
    "import sys\n",
    "sys.path.append(\"../.\")\n",
    "import warnings\n",
    "warnings.filterwarnings('ignore')\n",
    "\n",
    "import pickle\n",
    "import os\n",
    "import pandas as pd\n",
    "import numpy as np\n",
    "import matplotlib.pyplot as plt\n",
    "import matplotlib as mpl\n",
    "\n",
    "from tqdm import tqdm\n",
    "from matplotlib import cm\n",
    "from matplotlib.tri import Triangulation\n",
    "from ast import literal_eval\n",
    "from sklearn.preprocessing import MinMaxScaler\n",
    "\n",
    "from dstar.apps import calculator, mask"
   ]
  },
  {
   "cell_type": "markdown",
   "metadata": {},
   "source": [
    "# Generate own scaler"
   ]
  },
  {
   "cell_type": "code",
   "execution_count": null,
   "metadata": {},
   "outputs": [],
   "source": [
    "eU_lst = np.arange(-1.6, -0.7, 0.05) # Range of applied potential to calculate producitivty\n",
    "eU_dict = {}\n",
    "scaler_by_eU = {}\n",
    "\n",
    "path = './energy/' # Path for dataframes with predicted binding energies\n",
    "csv_lst = os.listdir(path)\n",
    "\n",
    "for eU in eU_lst:\n",
    "    g_dict = {}\n",
    "    num_dict = {}\n",
    "    scalers = []\n",
    "    \n",
    "    for csv in tqdm(csv_lst):\n",
    "        df = pd.read_csv(path+csv)\n",
    "        df.drop_duplicates(['FNN','Same','Sub'],inplace=True)\n",
    "        csv = csv.split('.')[0]\n",
    "        el_1, el_2 = csv.split('_')\n",
    "        \n",
    "        masked_df = df\n",
    "        name = csv\n",
    "\n",
    "        # Predicted binding energies\n",
    "        co_arr = masked_df['co'].to_numpy()\n",
    "        h_arr = masked_df['h'].to_numpy()\n",
    "        oh_arr = masked_df['oh'].to_numpy()\n",
    "\n",
    "        g_max_by_product= calculator.get_activity(co_arr, h_arr, oh_arr, eU) # Calculate delta_G_max of active motifs from the binding energy\n",
    "        g_dict[name] = g_max_by_product # Save delta_G_max to dictionary by elemental combinations\n",
    "        num_dict[name] = len(co_arr) # Save the number of active motifs\n",
    "\n",
    "    name_lst = sorted(list(g_dict.keys()))\n",
    "    \n",
    "    productivity_dict ={}\n",
    "    for name in name_lst:\n",
    "        total_num = num_dict[name]\n",
    "        productivity = calculator.boltzman_product(g_dict[name],total_num) # Calculate raw productivity from the delta_G_max\n",
    "        productivity_dict[name] = productivity\n",
    "    \n",
    "    arr = np.array(list(productivity_dict.values())).T # Transpose for product-wise scaling\n",
    "    \n",
    "    for i in range(4):\n",
    "        scaler = MinMaxScaler()\n",
    "        arr[i] = scaler.fit_transform(np.array(arr[i]).reshape(-1,1)).flatten() # Apply MinMaxScaler to productivity\n",
    "        scalers.append(scaler)\n",
    "    \n",
    "    for name,prod in zip(name_lst,arr.T):\n",
    "        productivity_dict[name] = prod\n",
    "    \n",
    "    # Save productivity and scaler\n",
    "    eU_dict[eU] = productivity_dict \n",
    "    scaler_by_eU[eU] = scalers\n",
    "    \n",
    "with open('./utils/scaler.pkl','wb') as fw:\n",
    "    pickle.dump(scaler_by_eU,fw)"
   ]
  }
 ],
 "metadata": {
  "kernelspec": {
   "display_name": "Python 3",
   "language": "python",
   "name": "python3"
  },
  "language_info": {
   "codemirror_mode": {
    "name": "ipython",
    "version": 3
   },
   "file_extension": ".py",
   "mimetype": "text/x-python",
   "name": "python",
   "nbconvert_exporter": "python",
   "pygments_lexer": "ipython3",
   "version": "3.8.3"
  }
 },
 "nbformat": 4,
 "nbformat_minor": 4
}
